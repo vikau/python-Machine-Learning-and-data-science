{
 "cells": [
  {
   "cell_type": "markdown",
   "metadata": {},
   "source": [
    "# PySpark introduction\n",
    "spark is a fast cluster computing frame work which is used for processing querying and analyzing big data\n",
    "pyspark is a python api for spark\n",
    "it provides high level API for spark\n",
    "it also support a rich set of higher level tools"
   ]
  },
  {
   "cell_type": "markdown",
   "metadata": {},
   "source": [
    "# spark DataFrames\n",
    "data drames generally refer to a data structure , which  is tablour in nature . it represent rows, each of which consists of a number of observations Rows can have a vertically of data formats (heterogeneous), whereas a column can have data of the same data types(homogenious)"
   ]
  },
  {
   "cell_type": "code",
   "execution_count": null,
   "metadata": {},
   "outputs": [],
   "source": [
    "#data can be loaded in through a csv json or xml it can also be created through any other dataset like hive or cassandra as well.\n"
   ]
  },
  {
   "cell_type": "code",
   "execution_count": 1,
   "metadata": {},
   "outputs": [],
   "source": [
    "from pyspark.sql import SparkSession"
   ]
  },
  {
   "cell_type": "code",
   "execution_count": null,
   "metadata": {},
   "outputs": [],
   "source": [
    "sparksession provides a single point of entry to intract with underlyinf spaek functionality and allows programming spark with dataframe\n",
    "and data set APIs\n",
    "\n",
    "the entry point to programming spark with the dataset and dataframe API\n",
    "getOrCreate();gets an existing SparkSession or, if there is no existing one, create a new one based on the options set in \n",
    "this builder.\n"
   ]
  },
  {
   "cell_type": "code",
   "execution_count": null,
   "metadata": {},
   "outputs": [],
   "source": [
    "#spark= SparkSession.builder.appName('hello').getOrCreate()"
   ]
  },
  {
   "cell_type": "code",
   "execution_count": 2,
   "metadata": {},
   "outputs": [],
   "source": [
    "spark= SparkSession.builder.appName('hello').getOrCreate()"
   ]
  },
  {
   "cell_type": "code",
   "execution_count": null,
   "metadata": {},
   "outputs": [],
   "source": []
  }
 ],
 "metadata": {
  "kernelspec": {
   "display_name": "Python 3",
   "language": "python",
   "name": "python3"
  },
  "language_info": {
   "codemirror_mode": {
    "name": "ipython",
    "version": 3
   },
   "file_extension": ".py",
   "mimetype": "text/x-python",
   "name": "python",
   "nbconvert_exporter": "python",
   "pygments_lexer": "ipython3",
   "version": "3.6.4"
  }
 },
 "nbformat": 4,
 "nbformat_minor": 2
}
